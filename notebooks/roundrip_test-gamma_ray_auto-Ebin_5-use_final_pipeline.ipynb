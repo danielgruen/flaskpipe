{
 "cells": [
  {
   "cell_type": "code",
   "execution_count": null,
   "metadata": {},
   "outputs": [],
   "source": [
    "# This cell allows the jupyter notebook to take up the space of your full web browser.\n",
    "\n",
    "from IPython.core.display import display, HTML\n",
    "display(HTML(\"<style>.container { width:100% !important; }</style>\"))"
   ]
  },
  {
   "cell_type": "code",
   "execution_count": null,
   "metadata": {},
   "outputs": [],
   "source": [
    "import galXgam\n",
    "from galXgam.utils import get_rms\n",
    "from galXgam.utils import gal2equat\n",
    "from galXgam.utils import catalogue_to_map\n",
    "from galXgam.utils import map_to_array_of_indices_including_repeats\n",
    "from galXgam.utils import map_to_catalogue_in_equatorial_coordinates\n",
    "from galXgam.utils import overdensity_to_mean_counts\n",
    "from galXgam.utils import sample_galaxy_overdensity_map\n",
    "from galXgam.utils import overdensity_map_to_density_map\n",
    "from galXgam.utils import overdensity_map_to_density_map_but_keep_negative_values\n",
    "from galXgam.utils import overdensity_map_to_density_map_but_keep_negative_values_and_use_rms\n",
    "from galXgam.utils import read_galaxy_catalogue\n",
    "from galXgam.utils import read_galaxy_mask\n",
    "from galXgam.utils import read_and_mask_gamma_ray_map\n",
    "from galXgam.utils import get_gamma_ray_flux_per_unmasked_pixel\n",
    "from galXgam.utils import get_gamma_ray_rms_of_unmasked_pixels\n",
    "from galXgam.utils import compute_treecorr_catalogue_and_pair_counts\n",
    "from galXgam.utils import compute_xi_and_r_from_treecorr_objects\n",
    "from galXgam.utils import compute_xi_and_r_from_catalogue_and_random_catalogue\n",
    "from galXgam.utils import get_random_catalogue_in_equatorial_coordinates_across_an_unmasked_sphere\n",
    "from galXgam.utils import get_random_catalogue_in_equatorial_coordinates_for_binary_mask\n",
    "from galXgam.utils import transform_C_ell_to_xi"
   ]
  },
  {
   "cell_type": "code",
   "execution_count": null,
   "metadata": {},
   "outputs": [],
   "source": [
    "import matplotlib.pyplot as plt\n",
    "%matplotlib inline"
   ]
  },
  {
   "cell_type": "code",
   "execution_count": null,
   "metadata": {},
   "outputs": [],
   "source": [
    "from scipy import interpolate\n",
    "import scipy.stats as st\n",
    "import treecorr as tr\n",
    "import numpy as np\n",
    "import healpy as hp\n",
    "# import astrotools.healpytools as hpt\n",
    "import pandas as pd\n",
    "# import fitsio\n",
    "# from astropy.io import fits\n",
    "# import fileinput\n",
    "import copy\n",
    "# import camb\n",
    "# from camb import correlations\n",
    "# import collections as clt\n",
    "# import warnings\n",
    "np.random.seed(12345)"
   ]
  },
  {
   "cell_type": "code",
   "execution_count": null,
   "metadata": {},
   "outputs": [],
   "source": []
  },
  {
   "cell_type": "markdown",
   "metadata": {},
   "source": [
    "# Enter Directories Here:"
   ]
  },
  {
   "cell_type": "code",
   "execution_count": null,
   "metadata": {},
   "outputs": [],
   "source": [
    "raw_flux_directory = \"/nfs/slac/kipac/fs1/g/des/aresh/Gamma_Ray_x_DES/raw_photon_exposure_and_foreground_data/new_stuff/flux_wfore\"\n",
    "\n",
    "gamma_ray_map_directory = \"/nfs/slac/kipac/fs1/g/des/aresh/Gamma_Ray_x_DES/raw_photon_exposure_and_foreground_data/new_stuff/flux_foresub\"\n",
    "\n",
    "gamma_ray_mask_directory = \"/nfs/slac/kipac/fs1/g/des/aresh/Gamma_Ray_x_DES/raw_photon_exposure_and_foreground_data/new_stuff/masks\"\n",
    "\n",
    "foreground_counts_directory = \"/nfs/slac/kipac/fs1/g/des/aresh/Gamma_Ray_x_DES/raw_photon_exposure_and_foreground_data/new_stuff/foreground_counts\"\n",
    "\n",
    "foreground_flux_directory = \"/nfs/slac/kipac/fs1/g/des/aresh/Gamma_Ray_x_DES/raw_photon_exposure_and_foreground_data/new_stuff/foreground_flux\"\n",
    "\n",
    "exposure_directory = \"/nfs/slac/kipac/fs1/g/des/aresh/Gamma_Ray_x_DES/raw_photon_exposure_and_foreground_data/new_stuff/exposures\"\n",
    "\n",
    "gamma_ray_overdensity_map_directory = \"/nfs/slac/kipac/fs1/g/des/aresh/Gamma_Ray_x_DES/notebook_scripts_and_outputs/using_raw_data/cross/for_all_z_and_E_bins_new_foreground_subtraction/flask_directory/stefano_cls/flaskpipe/output_old_Cells/sdss_12345\"\n",
    "\n",
    "C_ell_directory = \"/nfs/slac/kipac/fs1/g/des/aresh/Gamma_Ray_x_DES/notebook_scripts_and_outputs/using_raw_data/cross/for_all_z_and_E_bins_new_foreground_subtraction/flask_directory/stefano_cls/flaskpipe/output_old_C_ells/sdss_12345\"\n",
    "\n",
    "flaskpipe_directory = \"/nfs/slac/kipac/fs1/g/des/aresh/Gamma_Ray_x_DES/notebook_scripts_and_outputs/using_raw_data/cross/for_all_z_and_E_bins_new_foreground_subtraction/flask_directory/stefano_cls/flaskpipe\""
   ]
  },
  {
   "cell_type": "markdown",
   "metadata": {},
   "source": [
    "# Enter Filenames Here:"
   ]
  },
  {
   "cell_type": "code",
   "execution_count": null,
   "metadata": {},
   "outputs": [],
   "source": [
    "raw_flux_filename = raw_flux_directory + \"/flux_wfore_12years_9120.1_17378.0_MeV.fits\"\n",
    "\n",
    "gamma_ray_map_filename = gamma_ray_map_directory + \"/flux_foresub_12years_9120.1_17378.0_MeV.fits\"\n",
    "\n",
    "gamma_ray_mask_filename = gamma_ray_mask_directory + \"/masks_12years_9120.1_17378.0_MeV.fits\"\n",
    "\n",
    "foreground_flux_filename = foreground_flux_directory + \"/foreground_flux_12years_9120.1_17378.0_MeV.fits\"\n",
    "\n",
    "foreground_counts_filename = foreground_counts_directory + \"/foreground_counts_12years_9120.1_17378.0_MeV.fits\"\n",
    "\n",
    "exposure_filename = exposure_directory + \"/exposures_12years_9120.1_17378.0_MeV.fits\"\n",
    "\n",
    "gamma_ray_overdensity_map_filename = gamma_ray_overdensity_map_directory + \"/map-f6z5.fits\""
   ]
  },
  {
   "cell_type": "markdown",
   "metadata": {},
   "source": [
    "# Masked Sampling from Flask Maps"
   ]
  },
  {
   "cell_type": "code",
   "execution_count": null,
   "metadata": {},
   "outputs": [],
   "source": [
    "steradians_per_pixel = (4.0*np.pi)/hp.nside2npix(1024) # this factor needs to be multiplied with the exposure map to convert between flux and photons properly"
   ]
  },
  {
   "cell_type": "code",
   "execution_count": null,
   "metadata": {},
   "outputs": [],
   "source": [
    "#get the exposure map\n",
    "exposure_map = hp.read_map(exposure_filename)"
   ]
  },
  {
   "cell_type": "code",
   "execution_count": null,
   "metadata": {},
   "outputs": [],
   "source": [
    "#read the data gamma ray flux map, its mask, then mask the map\n",
    "true_gamma_ray_map = hp.read_map(gamma_ray_map_filename)\n",
    "gamma_ray_mask_map = hp.read_map(gamma_ray_mask_filename)\n",
    "true_masked_gamma_ray_map = true_gamma_ray_map * gamma_ray_mask_map"
   ]
  },
  {
   "cell_type": "code",
   "execution_count": null,
   "metadata": {},
   "outputs": [],
   "source": [
    "# convert the data gamma ray flux map to counts by multiplying by the exposure map\n",
    "true_masked_photon_map = true_masked_gamma_ray_map * exposure_map * steradians_per_pixel * (17378.0 - 9120.1)"
   ]
  },
  {
   "cell_type": "code",
   "execution_count": null,
   "metadata": {},
   "outputs": [],
   "source": [
    "#get the foreground flux map\n",
    "foreground_flux_map = hp.read_map(foreground_flux_filename)"
   ]
  },
  {
   "cell_type": "code",
   "execution_count": null,
   "metadata": {},
   "outputs": [],
   "source": [
    "#get the foreground counts map\n",
    "foreground_counts_map = hp.read_map(foreground_counts_filename)"
   ]
  },
  {
   "cell_type": "code",
   "execution_count": null,
   "metadata": {},
   "outputs": [],
   "source": [
    "# add the foreground map to the data map (in counts)\n",
    "true_masked_photon_plus_foreground_map =  true_masked_photon_map + foreground_counts_map*gamma_ray_mask_map"
   ]
  },
  {
   "cell_type": "code",
   "execution_count": null,
   "metadata": {},
   "outputs": [],
   "source": [
    "raw_flux_map = hp.read_map(raw_flux_filename)"
   ]
  },
  {
   "cell_type": "code",
   "execution_count": null,
   "metadata": {},
   "outputs": [],
   "source": [
    "#make a catalogue of ras and decs by taking every nonzero pixel and finding random ras and decs from within them with weights equal to the pixel flux values\n",
    "true_ras, true_decs, true_weights = map_to_catalogue_in_equatorial_coordinates(true_masked_gamma_ray_map, \"galactic\", False)"
   ]
  },
  {
   "cell_type": "code",
   "execution_count": null,
   "metadata": {},
   "outputs": [],
   "source": [
    "#get the gamma ray overdensity map\n",
    "gamma_ray_overdensity_map = hp.read_map(gamma_ray_overdensity_map_filename)"
   ]
  },
  {
   "cell_type": "code",
   "execution_count": null,
   "metadata": {},
   "outputs": [],
   "source": [
    "print(\"raw data flux map:\")\n",
    "raw_flux_per_unmasked_pixel = get_gamma_ray_flux_per_unmasked_pixel(raw_flux_map * gamma_ray_mask_map, gamma_ray_mask_map)\n",
    "print(\"\")\n",
    "print(\"\")\n",
    "print(\"foreground flux map:\")\n",
    "foreground_flux_per_unmasked_pixel = get_gamma_ray_flux_per_unmasked_pixel(foreground_flux_map * gamma_ray_mask_map, gamma_ray_mask_map)\n",
    "print(\"\")\n",
    "print(\"\")\n",
    "print(\"raw data - foreground flux map:\")\n",
    "gamma_ray_flux_per_unmasked_pixel = raw_flux_per_unmasked_pixel - foreground_flux_per_unmasked_pixel\n",
    "print(\"gamma_ray_flux_per_unmasked_pixel: {0}\".format(gamma_ray_flux_per_unmasked_pixel))"
   ]
  },
  {
   "cell_type": "code",
   "execution_count": null,
   "metadata": {},
   "outputs": [],
   "source": [
    "#overdensity to density gamma ray flux map\n",
    "gamma_ray_density_map = overdensity_map_to_density_map_but_keep_negative_values(gamma_ray_overdensity_map, gamma_ray_flux_per_unmasked_pixel)"
   ]
  },
  {
   "cell_type": "code",
   "execution_count": null,
   "metadata": {},
   "outputs": [],
   "source": [
    "#turn the density gamma ray flux map to a density gamma ray counts map\n",
    "photon_map = gamma_ray_density_map * exposure_map * steradians_per_pixel * (17378.0 - 9120.1)"
   ]
  },
  {
   "cell_type": "code",
   "execution_count": null,
   "metadata": {},
   "outputs": [],
   "source": [
    "#get the foreground counts map\n",
    "foreground_counts_map = hp.read_map(foreground_counts_filename)"
   ]
  },
  {
   "cell_type": "code",
   "execution_count": null,
   "metadata": {},
   "outputs": [],
   "source": [
    "#get the foreground flux map\n",
    "foreground_flux_map = hp.read_map(foreground_flux_filename)"
   ]
  },
  {
   "cell_type": "code",
   "execution_count": null,
   "metadata": {},
   "outputs": [],
   "source": [
    "#add the foreground counts map to the density gamma ray counts map\n",
    "photon_plus_foreground_map =  photon_map + foreground_counts_map"
   ]
  },
  {
   "cell_type": "code",
   "execution_count": null,
   "metadata": {},
   "outputs": [],
   "source": [
    "#Poisson sample\n",
    "photon_plus_foreground_map = np.where(photon_plus_foreground_map >= 0.0, photon_plus_foreground_map, 0.0)\n",
    "sampled_photon_plus_foreground_map = np.random.poisson(photon_plus_foreground_map).astype(np.float)"
   ]
  },
  {
   "cell_type": "code",
   "execution_count": null,
   "metadata": {},
   "outputs": [],
   "source": [
    "#convert the Poisson-Sampled Simulated Gamma Ray counts map to a Poisson-Sampled Simulated Gamma Ray flux map\n",
    "sampled_gamma_ray_plus_foreground_map = sampled_photon_plus_foreground_map * (1.0/exposure_map) * (1.0/steradians_per_pixel) * (1.0/(17378.0 - 9120.1))"
   ]
  },
  {
   "cell_type": "code",
   "execution_count": null,
   "metadata": {},
   "outputs": [],
   "source": [
    "#subtract the foreground\n",
    "sampled_gamma_ray_map = sampled_gamma_ray_plus_foreground_map - foreground_flux_map"
   ]
  },
  {
   "cell_type": "markdown",
   "metadata": {},
   "source": [
    "# Compare the histograms of the masked Poisson-Sampled, Foreground-Subtracted Simulated Gamma Ray flux map vs the masked foreground subtracted data counts map"
   ]
  },
  {
   "cell_type": "code",
   "execution_count": null,
   "metadata": {},
   "outputs": [],
   "source": [
    "plt.figure(figsize=(14,9))\n",
    "h = plt.hist(((sampled_photon_plus_foreground_map-foreground_counts_map)* gamma_ray_mask_map)[np.nonzero((sampled_photon_plus_foreground_map-foreground_counts_map)* gamma_ray_mask_map)], bins=100, label=\"flask output\", histtype=\"step\")\n",
    "h = plt.hist(true_masked_photon_map[true_masked_photon_map!=0], bins=100, label=\"data\", histtype=\"step\")\n",
    "plt.legend()\n",
    "plt.yscale(\"log\")"
   ]
  },
  {
   "cell_type": "markdown",
   "metadata": {},
   "source": [
    "# Get the input C_ells"
   ]
  },
  {
   "cell_type": "code",
   "execution_count": null,
   "metadata": {},
   "outputs": [],
   "source": [
    "C_ell_galaxy_filename = C_ell_directory + \"/sdssCl-f6z5f6z5.dat\"\n",
    "a = pd.read_csv(C_ell_galaxy_filename, sep=\" \",header=None) #read the C_ell and ell file\n",
    "semi_full_ell = a[0].values[0:1024] #get the l values\n",
    "semi_full_C_ell_original = a[1].values[0:1024] #get the C_ell values at every l\n",
    "ell = a[0].values[9:1024] #get the l values\n",
    "C_ell_original = a[1].values[9:1024] #get the C_ell values at every l"
   ]
  },
  {
   "cell_type": "markdown",
   "metadata": {},
   "source": [
    "# Comparing Input C_ells vs C_ells from Poisson-Sampled Simulated Gamma Ray Flux Map"
   ]
  },
  {
   "cell_type": "code",
   "execution_count": null,
   "metadata": {},
   "outputs": [],
   "source": [
    "gamma_ray_alm_output = hp.map2alm(sampled_gamma_ray_map, lmax=1024)\n",
    "C_ell_from_flask_map = hp.alm2cl(gamma_ray_alm_output)[10:]"
   ]
  },
  {
   "cell_type": "code",
   "execution_count": null,
   "metadata": {},
   "outputs": [],
   "source": [
    "plt.figure(figsize=(14,7))\n",
    "plt.scatter(ell, C_ell_original, label=\"original\")\n",
    "plt.scatter(ell, C_ell_from_flask_map, label=\"simulated gamma ray flux map (with Poisson sampling)\")\n",
    "plt.xscale(\"log\")\n",
    "plt.xlabel(\"l\")\n",
    "plt.ylabel(\"C_ell\")\n",
    "plt.xlim(8,1200)\n",
    "plt.ylim(1E-27,1E-25)\n",
    "plt.title(\"C_ell, gamma ray auto\")\n",
    "plt.yscale(\"log\")\n",
    "plt.legend()"
   ]
  },
  {
   "cell_type": "markdown",
   "metadata": {},
   "source": [
    "# Comparing Input C_ells vs C_ells Raw Overdensity Produced By FLASK"
   ]
  },
  {
   "cell_type": "code",
   "execution_count": null,
   "metadata": {},
   "outputs": [],
   "source": [
    "gamma_ray_alm_output = hp.map2alm(gamma_ray_overdensity_map, lmax=1024)\n",
    "C_ell_from_flask_map = hp.alm2cl(gamma_ray_alm_output)[10:]"
   ]
  },
  {
   "cell_type": "code",
   "execution_count": null,
   "metadata": {},
   "outputs": [],
   "source": [
    "plt.figure(figsize=(14,7))\n",
    "plt.scatter(ell, C_ell_original, label=\"original\")\n",
    "plt.scatter(ell, C_ell_from_flask_map, label=\"flask map\")\n",
    "plt.xscale(\"log\")\n",
    "plt.xlabel(\"l\")\n",
    "plt.ylabel(\"C_ell\")\n",
    "plt.xlim(8,1200)\n",
    "plt.ylim(1E-6,1E-1)\n",
    "plt.title(\"C_ell, gamma ray auto\")\n",
    "plt.yscale(\"log\")\n",
    "plt.legend()"
   ]
  },
  {
   "cell_type": "markdown",
   "metadata": {},
   "source": [
    "# Transforming input C_ells to a CF and comparing that to CF from the Simulated Gamma Ray Map, the Overdensity Map, and the Data (Which is a Gamma Ray Flux Map)"
   ]
  },
  {
   "cell_type": "code",
   "execution_count": null,
   "metadata": {},
   "outputs": [],
   "source": [
    "tck = interpolate.splrep(semi_full_ell, semi_full_C_ell_original) #make interpolator\n",
    "a_1_final = interpolate.splev([0], tck) #interpolate for C_ell to extend it later\n",
    "new_ell = [0] + semi_full_ell.tolist() #extend the ell\n",
    "new_C_ell_original = a_1_final.tolist() + semi_full_C_ell_original.tolist() #extend the C_ell\n",
    "\n",
    "#make sure neither ell nor C_ell goes beyond 1024 (since that's the nside we're using)\n",
    "ell = np.array(new_ell[:1025])\n",
    "C_ell_original = new_C_ell_original[:1025]"
   ]
  },
  {
   "cell_type": "code",
   "execution_count": null,
   "metadata": {},
   "outputs": [],
   "source": [
    "r = np.load(flaskpipe_directory + \"/r.npy\")"
   ]
  },
  {
   "cell_type": "code",
   "execution_count": null,
   "metadata": {},
   "outputs": [],
   "source": [
    "# take the thetas at which to compute the transform of the input C_ells and change the units from arcmin to cosines\n",
    "theta_arcmin = copy.deepcopy(r)\n",
    "theta = np.array(theta_arcmin) / 60.0 #arcmin to degrees\n",
    "theta_radian = np.radians(theta) #degrees to radians\n",
    "cosines = np.cos(theta_radian) #radians to cosines"
   ]
  },
  {
   "cell_type": "code",
   "execution_count": null,
   "metadata": {},
   "outputs": [],
   "source": [
    "xi_fourier_from_C_ell_original = transform_C_ell_to_xi(C_ell_original, ell, cosines)"
   ]
  },
  {
   "cell_type": "code",
   "execution_count": null,
   "metadata": {},
   "outputs": [],
   "source": [
    "xi_final = np.load(gamma_ray_overdensity_map_directory+\"/xi_f6z5_f6z5.npy\")"
   ]
  },
  {
   "cell_type": "code",
   "execution_count": null,
   "metadata": {
    "scrolled": false
   },
   "outputs": [],
   "source": [
    "plt.figure(figsize=(14,7))\n",
    "plt.plot(r, xi_fourier_from_C_ell_original, linestyle='-', marker='o', markersize=7, label = \"CF from transforming the input C_ells\")\n",
    "plt.plot(r, xi_final, linestyle='-', marker='o', markersize=7, label = \"CF measured from simulated gamma ray flux map\")\n",
    "plt.xscale(\"log\")\n",
    "plt.xlabel(\"theta [arcmin]\")\n",
    "plt.title(\"CF, gamma ray auto (scaled to match)\")\n",
    "plt.ylim(bottom=0.0)\n",
    "plt.legend()"
   ]
  }
 ],
 "metadata": {
  "kernelspec": {
   "display_name": "Python 3",
   "language": "python",
   "name": "python3"
  },
  "language_info": {
   "codemirror_mode": {
    "name": "ipython",
    "version": 3
   },
   "file_extension": ".py",
   "mimetype": "text/x-python",
   "name": "python",
   "nbconvert_exporter": "python",
   "pygments_lexer": "ipython3",
   "version": "3.7.3"
  }
 },
 "nbformat": 4,
 "nbformat_minor": 2
}
